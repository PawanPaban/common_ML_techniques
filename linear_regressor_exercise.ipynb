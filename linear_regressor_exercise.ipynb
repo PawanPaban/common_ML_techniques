{
 "cells": [
  {
   "cell_type": "code",
   "execution_count": 4,
   "id": "2262d4fd",
   "metadata": {},
   "outputs": [
    {
     "data": {
      "text/plain": [
       "<matplotlib.collections.PathCollection at 0x1f81c452670>"
      ]
     },
     "execution_count": 4,
     "metadata": {},
     "output_type": "execute_result"
    },
    {
     "data": {
      "image/png": "[encoded data removed]",
      "text/plain": [
       "<Figure size 432x288 with 1 Axes>"
      ]
     },
     "metadata": {
      "needs_background": "light"
     },
     "output_type": "display_data"
    }
   ],
   "source": [
    "import pandas as pd\n",
    "import numpy as np\n",
    "import matplotlib.pyplot as plt\n",
    "from sklearn import linear_model\n",
    "f = pd.read_csv('H:\\\\py-master\\\\py-master\\\\ML\\\\1_linear_reg\\\\Exercise\\\\canada_per_capita_income.csv')\n",
    "\n",
    "%matplotlib inline\n",
    "plt.xlabel('year')\n",
    "plt.ylabel('per capita income (US$)')\n",
    "plt.scatter(f.year,f.per_capita_income_USD,color='red',marker='*')\n"
   ]
  },
  {
   "cell_type": "code",
   "execution_count": 5,
   "id": "ddc5f10e",
   "metadata": {},
   "outputs": [
    {
     "data": {
      "text/plain": [
       "LinearRegression()"
      ]
     },
     "execution_count": 5,
     "metadata": {},
     "output_type": "execute_result"
    }
   ],
   "source": [
    "new_f=f.drop('per_capita_income_USD',axis='columns')\n",
    "\n",
    "model = linear_model.LinearRegression()\n",
    "model.fit(new_f,f.per_capita_income_USD)\n"
   ]
  },
  {
   "cell_type": "code",
   "execution_count": 6,
   "id": "a0c52b92",
   "metadata": {},
   "outputs": [
    {
     "data": {
      "text/plain": [
       "array([41288.69409442])"
      ]
     },
     "execution_count": 6,
     "metadata": {},
     "output_type": "execute_result"
    }
   ],
   "source": [
    "model.predict([[2020]])"
   ]
  },
  {
   "cell_type": "code",
   "execution_count": 7,
   "id": "b292fc47",
   "metadata": {},
   "outputs": [
    {
     "data": {
      "text/plain": [
       "0.890916917957032"
      ]
     },
     "execution_count": 7,
     "metadata": {},
     "output_type": "execute_result"
    }
   ],
   "source": [
    "model.score(new_f,f.per_capita_income_USD)"
   ]
  },
  {
   "cell_type": "code",
   "execution_count": null,
   "id": "ff8ed623",
   "metadata": {},
   "outputs": [],
   "source": []
  }
 ],
 "metadata": {
  "kernelspec": {
   "display_name": "Python 3",
   "language": "python",
   "name": "python3"
  },
  "language_info": {
   "codemirror_mode": {
    "name": "ipython",
    "version": 3
   },
   "file_extension": ".py",
   "mimetype": "text/x-python",
   "name": "python",
   "nbconvert_exporter": "python",
   "pygments_lexer": "ipython3",
   "version": "3.8.8"
  }
 },
 "nbformat": 4,
 "nbformat_minor": 5
}
