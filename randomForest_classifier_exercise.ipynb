{
 "cells": [
  {
   "cell_type": "code",
   "execution_count": 213,
   "id": "aa3c1dd3",
   "metadata": {},
   "outputs": [
    {
     "data": {
      "text/plain": [
       "0.92"
      ]
     },
     "execution_count": 213,
     "metadata": {},
     "output_type": "execute_result"
    }
   ],
   "source": [
    "import pandas as p\n",
    "import numpy as np\n",
    "\n",
    "from sklearn.ensemble import RandomForestClassifier\n",
    "from sklearn.model_selection import train_test_split,cross_val_score\n",
    "from sklearn.datasets import load_iris\n",
    "iris = load_iris()\n",
    "frame = p.DataFrame(iris.data,columns = iris['feature_names'])\n",
    "frame['target'] = p.DataFrame(iris.target)\n",
    "y=frame.target\n",
    "x=frame.drop('target',axis = 'columns')\n",
    "x_train,x_test,y_train,y_test = train_test_split(x,y,test_size=0.33)\n",
    "model = RandomForestClassifier(n_estimators=99)\n",
    "model.fit(x_train,y_train)\n",
    "model.predict(x_test)\n",
    "model.score(x_test,y_test)\n"
   ]
  },
  {
   "cell_type": "code",
   "execution_count": 216,
   "id": "c5428092",
   "metadata": {},
   "outputs": [
    {
     "data": {
      "text/plain": [
       "0.9666666666666668"
      ]
     },
     "execution_count": 216,
     "metadata": {},
     "output_type": "execute_result"
    }
   ],
   "source": [
    "np.mean(cross_val_score(model,x,y))"
   ]
  },
  {
   "cell_type": "code",
   "execution_count": null,
   "id": "c3fb2662",
   "metadata": {},
   "outputs": [],
   "source": []
  },
  {
   "cell_type": "code",
   "execution_count": null,
   "id": "7cd0b7a9",
   "metadata": {},
   "outputs": [],
   "source": []
  }
 ],
 "metadata": {
  "kernelspec": {
   "display_name": "Python 3",
   "language": "python",
   "name": "python3"
  },
  "language_info": {
   "codemirror_mode": {
    "name": "ipython",
    "version": 3
   },
   "file_extension": ".py",
   "mimetype": "text/x-python",
   "name": "python",
   "nbconvert_exporter": "python",
   "pygments_lexer": "ipython3",
   "version": "3.8.8"
  }
 },
 "nbformat": 4,
 "nbformat_minor": 5
}
